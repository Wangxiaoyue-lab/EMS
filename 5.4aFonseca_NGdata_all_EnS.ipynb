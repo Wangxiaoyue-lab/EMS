{
 "cells": [
  {
   "cell_type": "code",
   "execution_count": 5,
   "metadata": {},
   "outputs": [
    {
     "data": {
      "text/plain": [
       "View of AnnData object with n_obs × n_vars = 72054 × 38224\n",
       "    obs: 'orig.ident', 'nCount_RNA', 'nFeature_RNA', 'Major.Class', 'NGcelltype', 'Menstrual'\n",
       "    var: 'features'"
      ]
     },
     "execution_count": 5,
     "metadata": {},
     "output_type": "execute_result"
    }
   ],
   "source": [
    "import numpy as np\n",
    "import pandas as pd\n",
    "import scanpy as sc\n",
    "from collections import Counter\n",
    "import matplotlib\n",
    "import matplotlib.pyplot as plt\n",
    "import scanpy.external as sce\n",
    "import bbknn\n",
    "sc.set_figure_params(dpi_save=300)\n",
    "\n",
    "NGdata=sc.read_h5ad(\"NG_alldata2024.h5ad\")\n",
    "\n",
    "NGEU=sc.read_h5ad(\"NG_EU_umap_leiden_BBKNN.h5ad\")\n",
    "EUEnS=NGEU[NGEU.obs['newcelltype']==\"EnS\",]\n",
    "\n",
    "NGOMA=sc.read_h5ad(\"NG_OMA_umap_leiden_BBKNN.h5ad\")\n",
    "OMAEnS=NGOMA[NGOMA.obs['celltype']==\"EnS\",]\n",
    "\n",
    "NGPEM=sc.read_h5ad(\"NG_PEM_umap_leiden_BBKNN.h5ad\")\n",
    "PEMEnS=NGPEM[NGPEM.obs['newcelltype']==\"EnS\",]\n",
    "\n",
    "NGEnS=NGdata[list(EUEnS.obs_names)+list(OMAEnS.obs_names)+list(PEMEnS.obs_names),:]\n",
    "NGEnS\n",
    "NGEnS.write_csvs(\"EU_OMA_PEM_allstroma.csv\")   #save all the EnS cells derived from NGdata."
   ]
  }
 ],
 "metadata": {
  "kernelspec": {
   "display_name": "Python 3",
   "language": "python",
   "name": "python3"
  },
  "language_info": {
   "codemirror_mode": {
    "name": "ipython",
    "version": 3
   },
   "file_extension": ".py",
   "mimetype": "text/x-python",
   "name": "python",
   "nbconvert_exporter": "python",
   "pygments_lexer": "ipython3",
   "version": "3.7.2"
  }
 },
 "nbformat": 4,
 "nbformat_minor": 2
}
