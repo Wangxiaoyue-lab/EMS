{
 "cells": [
  {
   "cell_type": "code",
   "execution_count": 1,
   "metadata": {
    "vscode": {
     "languageId": "r"
    }
   },
   "outputs": [
    {
     "name": "stderr",
     "output_type": "stream",
     "text": [
      "Registered S3 method overwritten by 'SeuratDisk':\n",
      "  method            from  \n",
      "  as.sparse.H5Group Seurat\n",
      "\n",
      "Loading required package: SeuratObject\n",
      "\n",
      "Loading required package: sp\n",
      "\n",
      "\n",
      "Attaching package: 'SeuratObject'\n",
      "\n",
      "\n",
      "The following object is masked from 'package:base':\n",
      "\n",
      "    intersect\n",
      "\n",
      "\n"
     ]
    }
   ],
   "source": [
    "library(\"SeuratDisk\")\n",
    "library(\"Seurat\")\n",
    "setwd(\"/home/liusong/scRNA/endometriosis/V3data/Downloaded_scRNA_data/NG_EMS/Reanalysis2024\")\n",
    "NGdata <- readRDS(file = \"../aux.seurat.shared.rds\")"
   ]
  },
  {
   "cell_type": "code",
   "execution_count": 3,
   "metadata": {
    "vscode": {
     "languageId": "r"
    }
   },
   "outputs": [
    {
     "data": {
      "text/html": [
       "<table class=\"dataframe\">\n",
       "<caption>A data.frame: 6 x 24</caption>\n",
       "<thead>\n",
       "\t<tr><th></th><th scope=col>nCount_RNA</th><th scope=col>nFeature_RNA</th><th scope=col>orig.ident</th><th scope=col>Patient.No.</th><th scope=col>Stage</th><th scope=col>Fresh.Frozen</th><th scope=col>Major.Class</th><th scope=col>Index</th><th scope=col>percent.mito</th><th scope=col>scublet_doublet_score</th><th scope=col>...</th><th scope=col>SCT_snn_res.0.5</th><th scope=col>seurat_clusters</th><th scope=col>doublet_detection_score</th><th scope=col>doublet_detection_doublet</th><th scope=col>SCT_snn_res.3</th><th scope=col>S.Score</th><th scope=col>G2M.Score</th><th scope=col>Phase</th><th scope=col>active.cluster</th><th scope=col>Menstrual.Cycle</th></tr>\n",
       "\t<tr><th></th><th scope=col>&lt;dbl&gt;</th><th scope=col>&lt;int&gt;</th><th scope=col>&lt;chr&gt;</th><th scope=col>&lt;int&gt;</th><th scope=col>&lt;int&gt;</th><th scope=col>&lt;chr&gt;</th><th scope=col>&lt;chr&gt;</th><th scope=col>&lt;chr&gt;</th><th scope=col>&lt;dbl&gt;</th><th scope=col>&lt;dbl&gt;</th><th scope=col>...</th><th scope=col>&lt;fct&gt;</th><th scope=col>&lt;fct&gt;</th><th scope=col>&lt;dbl&gt;</th><th scope=col>&lt;dbl&gt;</th><th scope=col>&lt;fct&gt;</th><th scope=col>&lt;dbl&gt;</th><th scope=col>&lt;dbl&gt;</th><th scope=col>&lt;chr&gt;</th><th scope=col>&lt;fct&gt;</th><th scope=col>&lt;chr&gt;</th></tr>\n",
       "</thead>\n",
       "<tbody>\n",
       "\t<tr><th scope=row>AAACCTGCATCCTAGA-sample1</th><td>2597</td><td> 850</td><td>sample1</td><td>1</td><td>NA</td><td>Fresh</td><td>Endometrioma</td><td>A12</td><td>0.6160955</td><td>0.23809524</td><td>...</td><td>5</td><td>11</td><td>1.8993226</td><td>0</td><td>11</td><td> 0.00865440</td><td>-0.004481813</td><td>S  </td><td>T/NK cells</td><td>Luteal</td></tr>\n",
       "\t<tr><th scope=row>AAACCTGGTATAAACG-sample1</th><td>3816</td><td>1244</td><td>sample1</td><td>1</td><td>NA</td><td>Fresh</td><td>Endometrioma</td><td>A12</td><td>0.6289308</td><td>0.17500000</td><td>...</td><td>0</td><td>7 </td><td>3.4776941</td><td>0</td><td>7 </td><td>-0.03142577</td><td>-0.014601426</td><td>G1 </td><td>T/NK cells</td><td>Luteal</td></tr>\n",
       "\t<tr><th scope=row>AAACCTGTCACATGCA-sample1</th><td>1903</td><td> 669</td><td>sample1</td><td>1</td><td>NA</td><td>Fresh</td><td>Endometrioma</td><td>A12</td><td>2.2595901</td><td>0.15953307</td><td>...</td><td>8</td><td>28</td><td>5.4767224</td><td>0</td><td>28</td><td> 0.01353245</td><td> 0.001537845</td><td>S  </td><td>T/NK cells</td><td>Luteal</td></tr>\n",
       "\t<tr><th scope=row>AAACGGGTCCACGTGG-sample1</th><td>1255</td><td> 739</td><td>sample1</td><td>1</td><td>NA</td><td>Fresh</td><td>Endometrioma</td><td>A12</td><td>2.5498008</td><td>0.13402062</td><td>...</td><td>0</td><td>7 </td><td>0.2165364</td><td>0</td><td>7 </td><td> 0.02886777</td><td>-0.017274308</td><td>S  </td><td>T/NK cells</td><td>Luteal</td></tr>\n",
       "\t<tr><th scope=row>AAAGATGCAAGCGAGT-sample1</th><td>2062</td><td> 741</td><td>sample1</td><td>1</td><td>NA</td><td>Fresh</td><td>Endometrioma</td><td>A12</td><td>2.3763337</td><td>0.23809524</td><td>...</td><td>8</td><td>18</td><td>1.1089065</td><td>0</td><td>18</td><td>-0.01948654</td><td> 0.039227713</td><td>G2M</td><td>T/NK cells</td><td>Luteal</td></tr>\n",
       "\t<tr><th scope=row>AAAGATGTCACCCGAG-sample1</th><td> 795</td><td> 366</td><td>sample1</td><td>1</td><td>NA</td><td>Fresh</td><td>Endometrioma</td><td>A12</td><td>1.1320755</td><td>0.09042553</td><td>...</td><td>8</td><td>37</td><td>0.1085703</td><td>0</td><td>37</td><td>-0.01091239</td><td>-0.023565641</td><td>G1 </td><td>T/NK cells</td><td>Luteal</td></tr>\n",
       "</tbody>\n",
       "</table>\n"
      ],
      "text/latex": [
       "A data.frame: 6 x 24\n",
       "\\begin{tabular}{r|lllllllllllllllllllll}\n",
       "  & nCount\\_RNA & nFeature\\_RNA & orig.ident & Patient.No. & Stage & Fresh.Frozen & Major.Class & Index & percent.mito & scublet\\_doublet\\_score & ... & SCT\\_snn\\_res.0.5 & seurat\\_clusters & doublet\\_detection\\_score & doublet\\_detection\\_doublet & SCT\\_snn\\_res.3 & S.Score & G2M.Score & Phase & active.cluster & Menstrual.Cycle\\\\\n",
       "  & <dbl> & <int> & <chr> & <int> & <int> & <chr> & <chr> & <chr> & <dbl> & <dbl> & ... & <fct> & <fct> & <dbl> & <dbl> & <fct> & <dbl> & <dbl> & <chr> & <fct> & <chr>\\\\\n",
       "\\hline\n",
       "\tAAACCTGCATCCTAGA-sample1 & 2597 &  850 & sample1 & 1 & NA & Fresh & Endometrioma & A12 & 0.6160955 & 0.23809524 & ... & 5 & 11 & 1.8993226 & 0 & 11 &  0.00865440 & -0.004481813 & S   & T/NK cells & Luteal\\\\\n",
       "\tAAACCTGGTATAAACG-sample1 & 3816 & 1244 & sample1 & 1 & NA & Fresh & Endometrioma & A12 & 0.6289308 & 0.17500000 & ... & 0 & 7  & 3.4776941 & 0 & 7  & -0.03142577 & -0.014601426 & G1  & T/NK cells & Luteal\\\\\n",
       "\tAAACCTGTCACATGCA-sample1 & 1903 &  669 & sample1 & 1 & NA & Fresh & Endometrioma & A12 & 2.2595901 & 0.15953307 & ... & 8 & 28 & 5.4767224 & 0 & 28 &  0.01353245 &  0.001537845 & S   & T/NK cells & Luteal\\\\\n",
       "\tAAACGGGTCCACGTGG-sample1 & 1255 &  739 & sample1 & 1 & NA & Fresh & Endometrioma & A12 & 2.5498008 & 0.13402062 & ... & 0 & 7  & 0.2165364 & 0 & 7  &  0.02886777 & -0.017274308 & S   & T/NK cells & Luteal\\\\\n",
       "\tAAAGATGCAAGCGAGT-sample1 & 2062 &  741 & sample1 & 1 & NA & Fresh & Endometrioma & A12 & 2.3763337 & 0.23809524 & ... & 8 & 18 & 1.1089065 & 0 & 18 & -0.01948654 &  0.039227713 & G2M & T/NK cells & Luteal\\\\\n",
       "\tAAAGATGTCACCCGAG-sample1 &  795 &  366 & sample1 & 1 & NA & Fresh & Endometrioma & A12 & 1.1320755 & 0.09042553 & ... & 8 & 37 & 0.1085703 & 0 & 37 & -0.01091239 & -0.023565641 & G1  & T/NK cells & Luteal\\\\\n",
       "\\end{tabular}\n"
      ],
      "text/markdown": [
       "\n",
       "A data.frame: 6 x 24\n",
       "\n",
       "| <!--/--> | nCount_RNA &lt;dbl&gt; | nFeature_RNA &lt;int&gt; | orig.ident &lt;chr&gt; | Patient.No. &lt;int&gt; | Stage &lt;int&gt; | Fresh.Frozen &lt;chr&gt; | Major.Class &lt;chr&gt; | Index &lt;chr&gt; | percent.mito &lt;dbl&gt; | scublet_doublet_score &lt;dbl&gt; | ... ... | SCT_snn_res.0.5 &lt;fct&gt; | seurat_clusters &lt;fct&gt; | doublet_detection_score &lt;dbl&gt; | doublet_detection_doublet &lt;dbl&gt; | SCT_snn_res.3 &lt;fct&gt; | S.Score &lt;dbl&gt; | G2M.Score &lt;dbl&gt; | Phase &lt;chr&gt; | active.cluster &lt;fct&gt; | Menstrual.Cycle &lt;chr&gt; |\n",
       "|---|---|---|---|---|---|---|---|---|---|---|---|---|---|---|---|---|---|---|---|---|---|\n",
       "| AAACCTGCATCCTAGA-sample1 | 2597 |  850 | sample1 | 1 | NA | Fresh | Endometrioma | A12 | 0.6160955 | 0.23809524 | ... | 5 | 11 | 1.8993226 | 0 | 11 |  0.00865440 | -0.004481813 | S   | T/NK cells | Luteal |\n",
       "| AAACCTGGTATAAACG-sample1 | 3816 | 1244 | sample1 | 1 | NA | Fresh | Endometrioma | A12 | 0.6289308 | 0.17500000 | ... | 0 | 7  | 3.4776941 | 0 | 7  | -0.03142577 | -0.014601426 | G1  | T/NK cells | Luteal |\n",
       "| AAACCTGTCACATGCA-sample1 | 1903 |  669 | sample1 | 1 | NA | Fresh | Endometrioma | A12 | 2.2595901 | 0.15953307 | ... | 8 | 28 | 5.4767224 | 0 | 28 |  0.01353245 |  0.001537845 | S   | T/NK cells | Luteal |\n",
       "| AAACGGGTCCACGTGG-sample1 | 1255 |  739 | sample1 | 1 | NA | Fresh | Endometrioma | A12 | 2.5498008 | 0.13402062 | ... | 0 | 7  | 0.2165364 | 0 | 7  |  0.02886777 | -0.017274308 | S   | T/NK cells | Luteal |\n",
       "| AAAGATGCAAGCGAGT-sample1 | 2062 |  741 | sample1 | 1 | NA | Fresh | Endometrioma | A12 | 2.3763337 | 0.23809524 | ... | 8 | 18 | 1.1089065 | 0 | 18 | -0.01948654 |  0.039227713 | G2M | T/NK cells | Luteal |\n",
       "| AAAGATGTCACCCGAG-sample1 |  795 |  366 | sample1 | 1 | NA | Fresh | Endometrioma | A12 | 1.1320755 | 0.09042553 | ... | 8 | 37 | 0.1085703 | 0 | 37 | -0.01091239 | -0.023565641 | G1  | T/NK cells | Luteal |\n",
       "\n"
      ],
      "text/plain": [
       "                         nCount_RNA nFeature_RNA orig.ident Patient.No. Stage\n",
       "AAACCTGCATCCTAGA-sample1 2597        850         sample1    1           NA   \n",
       "AAACCTGGTATAAACG-sample1 3816       1244         sample1    1           NA   \n",
       "AAACCTGTCACATGCA-sample1 1903        669         sample1    1           NA   \n",
       "AAACGGGTCCACGTGG-sample1 1255        739         sample1    1           NA   \n",
       "AAAGATGCAAGCGAGT-sample1 2062        741         sample1    1           NA   \n",
       "AAAGATGTCACCCGAG-sample1  795        366         sample1    1           NA   \n",
       "                         Fresh.Frozen Major.Class  Index percent.mito\n",
       "AAACCTGCATCCTAGA-sample1 Fresh        Endometrioma A12   0.6160955   \n",
       "AAACCTGGTATAAACG-sample1 Fresh        Endometrioma A12   0.6289308   \n",
       "AAACCTGTCACATGCA-sample1 Fresh        Endometrioma A12   2.2595901   \n",
       "AAACGGGTCCACGTGG-sample1 Fresh        Endometrioma A12   2.5498008   \n",
       "AAAGATGCAAGCGAGT-sample1 Fresh        Endometrioma A12   2.3763337   \n",
       "AAAGATGTCACCCGAG-sample1 Fresh        Endometrioma A12   1.1320755   \n",
       "                         scublet_doublet_score ... SCT_snn_res.0.5\n",
       "AAACCTGCATCCTAGA-sample1 0.23809524            ... 5              \n",
       "AAACCTGGTATAAACG-sample1 0.17500000            ... 0              \n",
       "AAACCTGTCACATGCA-sample1 0.15953307            ... 8              \n",
       "AAACGGGTCCACGTGG-sample1 0.13402062            ... 0              \n",
       "AAAGATGCAAGCGAGT-sample1 0.23809524            ... 8              \n",
       "AAAGATGTCACCCGAG-sample1 0.09042553            ... 8              \n",
       "                         seurat_clusters doublet_detection_score\n",
       "AAACCTGCATCCTAGA-sample1 11              1.8993226              \n",
       "AAACCTGGTATAAACG-sample1 7               3.4776941              \n",
       "AAACCTGTCACATGCA-sample1 28              5.4767224              \n",
       "AAACGGGTCCACGTGG-sample1 7               0.2165364              \n",
       "AAAGATGCAAGCGAGT-sample1 18              1.1089065              \n",
       "AAAGATGTCACCCGAG-sample1 37              0.1085703              \n",
       "                         doublet_detection_doublet SCT_snn_res.3 S.Score    \n",
       "AAACCTGCATCCTAGA-sample1 0                         11             0.00865440\n",
       "AAACCTGGTATAAACG-sample1 0                         7             -0.03142577\n",
       "AAACCTGTCACATGCA-sample1 0                         28             0.01353245\n",
       "AAACGGGTCCACGTGG-sample1 0                         7              0.02886777\n",
       "AAAGATGCAAGCGAGT-sample1 0                         18            -0.01948654\n",
       "AAAGATGTCACCCGAG-sample1 0                         37            -0.01091239\n",
       "                         G2M.Score    Phase active.cluster Menstrual.Cycle\n",
       "AAACCTGCATCCTAGA-sample1 -0.004481813 S     T/NK cells     Luteal         \n",
       "AAACCTGGTATAAACG-sample1 -0.014601426 G1    T/NK cells     Luteal         \n",
       "AAACCTGTCACATGCA-sample1  0.001537845 S     T/NK cells     Luteal         \n",
       "AAACGGGTCCACGTGG-sample1 -0.017274308 S     T/NK cells     Luteal         \n",
       "AAAGATGCAAGCGAGT-sample1  0.039227713 G2M   T/NK cells     Luteal         \n",
       "AAAGATGTCACCCGAG-sample1 -0.023565641 G1    T/NK cells     Luteal         "
      ]
     },
     "metadata": {},
     "output_type": "display_data"
    },
    {
     "data": {
      "text/plain": [
       "An object of class Seurat \n",
       "68578 features across 373851 samples within 2 assays \n",
       "Active assay: RNA (38224 features, 0 variable features)\n",
       " 2 layers present: counts, data\n",
       " 1 other assay present: SCT\n",
       " 3 dimensional reductions calculated: harmony, pca, umap"
      ]
     },
     "metadata": {},
     "output_type": "display_data"
    }
   ],
   "source": [
    "head(NGdata@meta.data)\n",
    "DefaultAssay(NGdata) <- \"RNA\"\n",
    "NGdata\n",
    "rawdata <- GetAssayData(NGdata,layer=\"counts\")\n",
    "newObj <- CreateSeuratObject(rawdata)\n",
    "newObj@meta.data$Major.Class <- NGdata@meta.data$Major.Class\n",
    "newObj@meta.data$NGcelltype <- as.character(NGdata@meta.data$active.cluster)\n",
    "newObj@meta.data$Menstrual <- NGdata@meta.data$Menstrual.Cycle"
   ]
  },
  {
   "cell_type": "code",
   "execution_count": 5,
   "metadata": {
    "vscode": {
     "languageId": "r"
    }
   },
   "outputs": [
    {
     "name": "stderr",
     "output_type": "stream",
     "text": [
      "Warning message:\n",
      "\"Overwriting previous file NG_alldata2024.h5seurat\"\n",
      "Creating h5Seurat file for version 3.1.5.9900\n",
      "\n",
      "Adding counts for RNA\n",
      "\n",
      "Adding data for RNA\n",
      "\n",
      "No variable features found for RNA\n",
      "\n",
      "No feature-level metadata found for RNA\n",
      "\n",
      "Validating h5Seurat file\n",
      "\n",
      "Adding data from RNA as X\n",
      "\n",
      "Adding counts from RNA as raw\n",
      "\n",
      "Transfering meta.data to obs\n",
      "\n"
     ]
    }
   ],
   "source": [
    "newObj[['RNA']] <- as(object=newObj[['RNA']],Class=\"Assay\")\n",
    "SaveH5Seurat(newObj,filename=\"NG_alldata2024.h5seurat\",overwrite = TRUE)\n",
    "Convert(\"NG_alldata2024.h5seurat\",dest=\"h5ad\",overwrite=TRUE)"
   ]
  }
 ],
 "metadata": {
  "kernelspec": {
   "display_name": "R",
   "language": "R",
   "name": "ir"
  },
  "language_info": {
   "codemirror_mode": "r",
   "file_extension": ".r",
   "mimetype": "text/x-r-source",
   "name": "R",
   "pygments_lexer": "r",
   "version": "4.3.2"
  }
 },
 "nbformat": 4,
 "nbformat_minor": 2
}
